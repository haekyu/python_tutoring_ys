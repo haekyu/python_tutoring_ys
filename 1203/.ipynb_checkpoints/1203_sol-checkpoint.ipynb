{
 "cells": [
  {
   "cell_type": "markdown",
   "metadata": {},
   "source": [
    "# 1203 숙제\n",
    "- Bubble sort\n",
    "- Insertion sort\n",
    "- Stock price 데이터 읽기"
   ]
  },
  {
   "cell_type": "markdown",
   "metadata": {},
   "source": [
    "### Bubble sort\n",
    "- lst의 맨 끝에 maximum 값을 채워 넣는 식으로 구현할 수 있다.\n",
    "- 예시) \n",
    "    + [5, 1, 2, 6, 2, 1, 3, 0] 가 주어졌다. \n",
    "    + stage 0: [5, 1, 2, 6, 2, 1] 에서 최대값은 6이다. 목표는 6을 맨 뒤로 밀어 넣는 것.\n",
    "        * [`5, 1`, 2, 6, 2, 1]: `5, 1` 에서 5가 크니까 뒤로 보낸다. 즉, 5와 1의 순서를 바꾼다.\n",
    "        * [`1, 5`, 2, 6, 2, 1]: 이 되었다.\n",
    "        * [1, `5, 2`, 6, 2, 1]: `5, 2` 에서 5가 크니까 뒤로 보낸다. 즉, 5와 2의 순서를 바꾼다.\n",
    "        * [1, `2, 5`, 6, 2, 1]: 이 되었다.\n",
    "        * [1, 2, `5, 6`, 2, 1]: `5, 6` 에서 6이 크니까 그대로 둔다.\n",
    "        * [1, 2, 5, `6, 2`, 1]: `6, 2` 에서 6이 크니까 뒤로 보낸다. 즉, 6과 2의 순서를 바꾼다.\n",
    "        * [1, 2, 5, `2, 6`, 1]: 이 되었다.\n",
    "        * [1, 2, 5, 2, `6, 1`]: `6, 1` 에서 6이 크니까 뒤로 보낸다. 즉, 6과 1의 순서를 바꾼다.\n",
    "        * [1, 2, 5, 2, `1, 6`]: 이 되었다. 끝에 도달했으니 stage 0은 끝이 난다.\n",
    "    + stage 1: [1, 2, 5, 2, 1, <span style=\"color:green\">**6**</span>] 에서 마지막 6을 제외하고 최대값은 5이다. 목표는 5를 6 바로 앞까지 뒤로 밀어 넣는 것.\n",
    "        * [`1, 2`, 5, 2, 1, <span style=\"color:green\">**6**</span>]: `1, 2` 에서 순서가 잘 맞으니 그대로 둔다.\n",
    "        * [1, `2, 5`, 2, 1, <span style=\"color:green\">**6**</span>]: `2, 5` 에서 순서가 잘 맞으니 그대로 둔다.\n",
    "        * [1, 2, `5, 2`, 1, <span style=\"color:green\">**6**</span>]: `5, 2` 에서 순서가 뒤바뀌었으니 순서를 바꾼다.\n",
    "        * [1, 2, `2, 5`, 1, <span style=\"color:green\">**6**</span>]: 가 되었다.\n",
    "        * [1, 2, 2, `5, 1`, <span style=\"color:green\">**6**</span>]: `5, 1` 에서 순서가 뒤바뀌었으니 순서를 바꾼다.\n",
    "        * [1, 2, 2, `1, 5`, <span style=\"color:green\">**6**</span>]: 가 되었다. 끝에 도달했으니 stage 1은 끝이 난다.\n",
    "    + stage 2: [1, 2, 2, 1, <span style=\"color:green\">**5**, **6**</span>] 에서 목표는 2를 뒤로 밀어 넣는 것. 아래에는 자세한 설명을 생략하고 lst의 변화 양상만을 포함. \n",
    "        * [`1, 2`, 2, 1, <span style=\"color:green\">**5**, **6**</span>]\n",
    "        * [1, `2, 2`, 1, <span style=\"color:green\">**5**, **6**</span>]\n",
    "        * [1, 2, `2, 1`, <span style=\"color:green\">**5**, **6**</span>]: Swap 필요\n",
    "        * [1, 2, `1, 2`, <span style=\"color:green\">**5**, **6**</span>]: 가 되었다. 끝에 도달했으니 stage 2는 끝이 난다.\n",
    "    + stage 3: [1, 2, 1, <span style=\"color:green\">**2**, **5**, **6**</span>] 에서 목표는 2를 뒤로 밀어 넣는 것.\n",
    "        * [`1, 2`, 1, <span style=\"color:green\">**2**, **5**, **6**</span>]\n",
    "        * [1, `2, 1`, <span style=\"color:green\">**2**, **5**, **6**</span>]: Swap 필요\n",
    "        * [1, `1, 2`, <span style=\"color:green\">**2**, **5**, **6**</span>]: 가 되었다. 끝에 도달했으니 stage 3은 끝이 난다.\n",
    "    + stage 4: [1, 1, <span style=\"color:green\">**2**, **2**, **5**, **6**</span>]: 에서 목표는 1을 가장 뒤에 두는 것.\n",
    "        * [`1, 1`, <span style=\"color:green\">**2**, **2**, **5**, **6**</span>]: Swap 필요 없고, 끝에 도달했으니 stage 4는 끝이 난다.\n",
    "    + 끝!"
   ]
  },
  {
   "cell_type": "code",
   "execution_count": 1,
   "metadata": {
    "collapsed": true
   },
   "outputs": [],
   "source": [
    "def bubble_sort(lst):\n",
    "    for i in range(0, len(lst)):\n",
    "        for j in range(0, len(lst) - i - 1):\n",
    "            if lst[j] > lst[j + 1]:\n",
    "                # Swap lst[j] and lst[j + 1]\n",
    "                lst_j = lst[j]\n",
    "                lst[j] = lst[j + 1]\n",
    "                lst[j + 1] = lst_j"
   ]
  },
  {
   "cell_type": "code",
   "execution_count": 4,
   "metadata": {
    "collapsed": false
   },
   "outputs": [
    {
     "name": "stdout",
     "output_type": "stream",
     "text": [
      "before sorted: [5, 1, 2, 6, 2, 1, 3, 0]\n",
      "after sorted: [0, 1, 1, 2, 2, 3, 5, 6]\n"
     ]
    }
   ],
   "source": [
    "lst = [5, 1, 2, 6, 2, 1, 3, 0]\n",
    "print('before sorted:', lst)\n",
    "bubble_sort(lst)\n",
    "print('after sorted:', lst)"
   ]
  },
  {
   "cell_type": "markdown",
   "metadata": {},
   "source": [
    "### Insertion sort\n",
    "- lst 의 앞 부분에 sorted array를 완성시켜나가는 방식이다. 원소 하나씩 하나씩 앞 부분에 넣어간다.\n",
    "- 예시) \n",
    "    + [5, 1, 2, 6, 2, 1, 3, 0] 가 주어졌다. \n",
    "    + Stage <span style=\"color:green\">0</span>: lst[0: <span style=\"color:green\">0</span>] 부분을 sorted array로 만든다.\n",
    "        - [`5`, 1, 2, 5, 2, 1, 3, 0] 에서 `5`는 sorted 완료. Stage 0 완료.\n",
    "    + Stage 1: lst[0: <span style=\"color:green\">1</span>] 부분을 sorted array로 만든다.\n",
    "        - [`5`, <span style=\"color:green\">1</span>, 2, 5, 2, 1, 3, 0] 에서 1을 앞에 넣는다.\n",
    "        - [`1, 5`, 2, 5, 2, 1, 3, 0] 이 된다. Stage 1 완료."
   ]
  },
  {
   "cell_type": "code",
   "execution_count": null,
   "metadata": {
    "collapsed": true
   },
   "outputs": [],
   "source": []
  }
 ],
 "metadata": {
  "anaconda-cloud": {},
  "kernelspec": {
   "display_name": "Python [conda root]",
   "language": "python",
   "name": "conda-root-py"
  },
  "language_info": {
   "codemirror_mode": {
    "name": "ipython",
    "version": 3
   },
   "file_extension": ".py",
   "mimetype": "text/x-python",
   "name": "python",
   "nbconvert_exporter": "python",
   "pygments_lexer": "ipython3",
   "version": "3.5.2"
  }
 },
 "nbformat": 4,
 "nbformat_minor": 2
}
