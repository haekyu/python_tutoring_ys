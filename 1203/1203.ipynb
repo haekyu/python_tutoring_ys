{
 "cells": [
  {
   "cell_type": "markdown",
   "metadata": {},
   "source": [
    "## jupyter 실행\n",
    "- 시작 > 검색: Anaconda Prompt\n",
    "- `jupyter notebook`\n",
    "- 끄기: prompt 에서 `ctrl + c`\n",
    "- 단축키\n",
    "    + mode\n",
    "        * 수정 모드: `enter` 누르면 해당 cell에서 수정할 수 있게 됨\n",
    "        * normal 모드: `esc` 누르면 해당 cell에서 나와서 normal모드가 됨\n",
    "    + 단축키\n",
    "        * cell 추가 \n",
    "            - Insert > Insert Cell Above\n",
    "                + normal 모드로 들어온 다음에 > A\n",
    "            - Insert > Insert Cell Below\n",
    "                + normal 모드로 들어온 다음에 > B\n",
    "        * cell 제거\n",
    "            - normal모드에서 dd\n",
    "        * cell에 line 만들기\n",
    "            - normal 모드에서 l"
   ]
  },
  {
   "cell_type": "markdown",
   "metadata": {},
   "source": [
    "### 파일 읽기 / 쓰기\n",
    "- pandas\n",
    "- numpy 에서 파일을 읽고 / 쓰기\n",
    "\n",
    "### Class\n",
    "- 정의 / 개념\n",
    "- 만들기"
   ]
  },
  {
   "cell_type": "markdown",
   "metadata": {},
   "source": [
    "### 복습\n",
    "- 괄호\n",
    "    + (): 함수\n",
    "        * list(): 얘는 빈 리스트(list)를 리턴하는 함수()\n",
    "            `def list(): return []`\n",
    "        * dict(): 얘는 빈 딕셔너리(dict)를 리턴하는 함수()\n",
    "            `def dict(): return {}`\n",
    "        * fib(): ~~~~\n",
    "        * fac(): ~~~~\n",
    "    + {}\n",
    "        * 딕셔너리 그 자체\n",
    "        * {} == 빈 딕셔녀러\n",
    "        * color_dict = {'mango': 'yellow', 'apple': 'red', 'tomato': 'red'}\n",
    "        * cf) dictionary 에서 원소를 추가 / 검색 할때에는 []를 씀\n",
    "          ex) color_dict['mango'] == 'yellow', \n",
    "             color_dict['mango'] = 'blue', \n",
    "             color_dict['melon']= 'green'\n",
    "    + []\n",
    "        * 리스트 그 자체\n",
    "            + ex) lst = [] ==== 빈 리스트를 만든다\n",
    "            + ex) lst = [3, 2, 1] \n",
    "        * 원소 / index 를 둘러쌀 때(?)\n",
    "            + lst = [3, 0, 4, 2, 1], lst[0] = 3\n",
    "            + color_dict = {'mango': 'yellow', 'apple': 'red', 'tomato': 'red'},\n",
    "            color_dict['mango'] == 'yellow'\n",
    "- list\n",
    "    + append\n",
    "    + indexing: index를 통해서 원하는 위치의 원소를 가져올 수 있음\n",
    "        * ex) lst = [3, 5, 1, 1], lst[0] = 3\n",
    "    + slicing: index범위를 잘라서 원소들을 가져옴\n",
    "        * ex) lst = [3, 5, 1, 1], lst[0: 2] = [3, 5, 1], \n",
    "        * lst[0:2] = [1, 1, 1]  ==> lst == [1, 1, 1, 1]\n",
    "- dict\n",
    "    + {key: value}\n",
    "    + 빠른 정보 검색!!!!!!!!!!!!!!\n",
    "- numpy\n",
    "    + google 검색해서 원하는 함수 / 기능을 잘 가져다 쓰면 됨\n",
    "- 파일 읽기 / 쓰기\n",
    "    + 파일 객체\n",
    "        - line 별로 읽기 / 쓰기\n",
    "        - f = open('filepath.txt', 'w') : write\n",
    "        - f = open('filepath.txt', 'r') : read (default)\n",
    "        - 마지막에 f.close()\n",
    "        - lines = f.readlines()\n",
    "    + pandas\n",
    "        - column 별로 읽기 / 쓰기\n",
    "        - column 별로 이름이 있어야 해요 (지어줘야 해요)\n",
    "        \n",
    "    + numpy\n",
    "- Plot"
   ]
  },
  {
   "cell_type": "markdown",
   "metadata": {},
   "source": [
    "### Comprehension\n",
    "+ list나 dict를 한줄에 만드는 방식"
   ]
  },
  {
   "cell_type": "code",
   "execution_count": 6,
   "metadata": {
    "collapsed": false
   },
   "outputs": [
    {
     "name": "stdout",
     "output_type": "stream",
     "text": [
      "[0, 1, 2, 3, 4]\n",
      "[0, 2, 4, 6, 8, 10, 12, 14, 16, 18]\n",
      "[0, 3, 6, 9]\n",
      "{0: 0, 1: 1, 2: 2, 3: 2, 4: 3, 5: 2, 6: 4, 7: 2, 8: 4, 9: 3}\n"
     ]
    }
   ],
   "source": [
    "goal = [0, 1, 2, 3, 4]\n",
    "\n",
    "lst = []\n",
    "for i in range(5):\n",
    "    lst.append(i)\n",
    "\n",
    "print(lst)\n",
    "\n",
    "\n",
    "# Comprehension\n",
    "lst2 = [2 * i for i in range(10)]\n",
    "print(lst2)\n",
    "\n",
    "# Comprehension + 조건 걸기\n",
    "lst3 = [i for i in range(10) if i % 3 == 0]\n",
    "print(lst3)\n",
    "\n",
    "# for i in range(10):\n",
    "#     if i % 3 == 0:\n",
    "#         i\n",
    "\n",
    "# Comprehension\n",
    "def num_factor(n):\n",
    "    # n이 주어져있을 때, n의 약수의 개수를 리턴.\n",
    "    # ex) n = 6 이면 4 return\n",
    "    num_factor_of_n = 0\n",
    "    for i in range(1, n+1):\n",
    "        if n % i == 0:\n",
    "            num_factor_of_n += 1 \n",
    "    return num_factor_of_n\n",
    "\n",
    "factor_num_dict = {key: num_factor(key) for key in range(10)}\n",
    "print(factor_num_dict)"
   ]
  },
  {
   "cell_type": "markdown",
   "metadata": {},
   "source": [
    "### Pandas로 파일 읽기 / 쓰기"
   ]
  },
  {
   "cell_type": "code",
   "execution_count": 26,
   "metadata": {
    "collapsed": false
   },
   "outputs": [
    {
     "name": "stdout",
     "output_type": "stream",
     "text": [
      "['chu\\t100\\tfem\\n', 'you\\t888\\tmal\\n']\n",
      "{'chu': ['100', 'fem'], 'you': ['888', 'mal']}\n"
     ]
    },
    {
     "data": {
      "text/plain": [
       "['chu\\t100\\tfem\\n', 'you\\t888\\tmal\\n']"
      ]
     },
     "execution_count": 26,
     "metadata": {},
     "output_type": "execute_result"
    }
   ],
   "source": [
    "\"\"\"\n",
    "file 객체 버전 (여기서는 f가 파일 객체)\n",
    "\"\"\"\n",
    "f = open('./ex.txt', 'r')\n",
    "lines = f.readlines()\n",
    "f.close()\n",
    "\n",
    "# key = 사람 이름, value = 그 사람의 [나이, 성별]\n",
    "info_dict = dict()\n",
    "\n",
    "for line in lines:\n",
    "    # line으로 부터 정보 뽑아내기\n",
    "    # infos = line.split('\\t')\n",
    "    infos = line.split()\n",
    "    name = infos[0]\n",
    "    age = infos[1]\n",
    "    sex = infos[2]\n",
    "    \n",
    "    # info_dict에 값을 채워넣기\n",
    "    info_dict[name] = [age, sex]\n",
    "\n",
    "print(lines)\n",
    "print(info_dict)"
   ]
  },
  {
   "cell_type": "code",
   "execution_count": 29,
   "metadata": {
    "collapsed": false
   },
   "outputs": [
    {
     "name": "stdout",
     "output_type": "stream",
     "text": [
      "0    chu\n",
      "1    you\n",
      "Name: name, dtype: object\n",
      "0    100\n",
      "1    888\n",
      "Name: age, dtype: int64\n",
      "0    fem\n",
      "1    mal\n",
      "Name: sex, dtype: object\n"
     ]
    },
    {
     "data": {
      "text/html": [
       "<div>\n",
       "<style>\n",
       "    .dataframe thead tr:only-child th {\n",
       "        text-align: right;\n",
       "    }\n",
       "\n",
       "    .dataframe thead th {\n",
       "        text-align: left;\n",
       "    }\n",
       "\n",
       "    .dataframe tbody tr th {\n",
       "        vertical-align: top;\n",
       "    }\n",
       "</style>\n",
       "<table border=\"1\" class=\"dataframe\">\n",
       "  <thead>\n",
       "    <tr style=\"text-align: right;\">\n",
       "      <th></th>\n",
       "      <th>name</th>\n",
       "      <th>age</th>\n",
       "      <th>sex</th>\n",
       "    </tr>\n",
       "  </thead>\n",
       "  <tbody>\n",
       "    <tr>\n",
       "      <th>0</th>\n",
       "      <td>chu</td>\n",
       "      <td>100</td>\n",
       "      <td>fem</td>\n",
       "    </tr>\n",
       "    <tr>\n",
       "      <th>1</th>\n",
       "      <td>you</td>\n",
       "      <td>888</td>\n",
       "      <td>mal</td>\n",
       "    </tr>\n",
       "  </tbody>\n",
       "</table>\n",
       "</div>"
      ],
      "text/plain": [
       "  name  age  sex\n",
       "0  chu  100  fem\n",
       "1  you  888  mal"
      ]
     },
     "execution_count": 29,
     "metadata": {},
     "output_type": "execute_result"
    }
   ],
   "source": [
    "\"\"\"\n",
    "Pandas 버전\n",
    "\"\"\"\n",
    "import pandas as pd\n",
    "\n",
    "# 읽기\n",
    "my_names = ['name', 'age', 'sex']\n",
    "information = pd.read_csv('./ex.txt', names=my_names, sep='\\t') \n",
    "\n",
    "print(information.name)\n",
    "print(information.age)\n",
    "print(information.sex)\n",
    "information"
   ]
  },
  {
   "cell_type": "code",
   "execution_count": 30,
   "metadata": {
    "collapsed": false
   },
   "outputs": [
    {
     "name": "stdout",
     "output_type": "stream",
     "text": [
      "{'chu': [100, 'fem'], 'you': [888, 'mal']}\n"
     ]
    }
   ],
   "source": [
    "# 사용하기\n",
    "info_dict = dict() # {}\n",
    "\n",
    "for n, a, s in zip(information.name, information.age, information.sex):\n",
    "#     print(n, a, s)\n",
    "#     info_dict[n] = [a, s]\n",
    "    key = n\n",
    "    val = ???\n",
    "    info_dict[key] = val\n",
    "\n",
    "print(info_dict)"
   ]
  },
  {
   "cell_type": "markdown",
   "metadata": {},
   "source": [
    "### info_dict????\n",
    "- 원래는 key = 이름, value = list of 나이, 성별, 즉 [나이, 성별]\n",
    "- key = 이름, \n",
    "  value = dictionary: key = 'age', value = 그 사람의 나이, key = 'sex', value = 그 사람의 성별"
   ]
  },
  {
   "cell_type": "code",
   "execution_count": 33,
   "metadata": {
    "collapsed": false
   },
   "outputs": [
    {
     "name": "stdout",
     "output_type": "stream",
     "text": [
      "{'apple': {'color': 'red', 'likes': 'no', 'taste': 'sour'}, 'mango': {'color': 'yellow', 'likes': 'yes', 'taste': 'sweet'}}\n"
     ]
    }
   ],
   "source": [
    "fruit_dict = dict()\n",
    "fruit_dict['mango'] = {'color': 'yellow', 'taste': 'sweet', 'likes':'yes'}\n",
    "fruit_dict['apple'] = {'color': 'red', 'taste': 'sour', 'likes':'no'}\n",
    "\n",
    "fruit_dict['mango']['color']\n",
    "print(fruit_dict)"
   ]
  },
  {
   "cell_type": "markdown",
   "metadata": {},
   "source": [
    "### OrderedDict\n",
    "- dictionary는 원래 원소를 삽입하는 순서를 기억하지 못함 (순서 상관없이 막 집어넣음)\n",
    "- OrderedDict는 삽입 순서대로 원소를 보관\n",
    "- import collections"
   ]
  },
  {
   "cell_type": "code",
   "execution_count": 18,
   "metadata": {
    "collapsed": false
   },
   "outputs": [
    {
     "name": "stdout",
     "output_type": "stream",
     "text": [
      "OrderedDict([('이름', ['나이', '성별']), ('chu', ['100', 'fem']), ('you', ['888', 'mal'])])\n"
     ]
    }
   ],
   "source": [
    "from collections import OrderedDict\n",
    "\n",
    "ordered_info_dict = OrderedDict()\n",
    "\n",
    "for line in lines:\n",
    "    # line으로 부터 정보 뽑아내기\n",
    "    # infos = line.split('\\t')\n",
    "    infos = line.split()\n",
    "    name = infos[0]\n",
    "    age = infos[1]\n",
    "    sex = infos[2]\n",
    "    \n",
    "    # info_dict에 값을 채워넣기\n",
    "    ordered_info_dict[name] = [age, sex]\n",
    "\n",
    "print(ordered_info_dict)"
   ]
  },
  {
   "cell_type": "markdown",
   "metadata": {},
   "source": [
    "## 숙제\n",
    "- pandas append / concat"
   ]
  },
  {
   "cell_type": "markdown",
   "metadata": {},
   "source": [
    "### Class"
   ]
  },
  {
   "cell_type": "code",
   "execution_count": 45,
   "metadata": {
    "collapsed": true
   },
   "outputs": [],
   "source": [
    "### CLASS: object를 만들기 위한 template / 문서일 뿐\n",
    "class CAT:\n",
    "    # Attributes\n",
    "    def __init__(self):\n",
    "        name = ''\n",
    "        sex = ''\n",
    "        age = 0\n",
    "    \n",
    "    # Functions\n",
    "    def cry(self):\n",
    "        print(\"Meow\")\n",
    "    \n",
    "    def get_older(self):\n",
    "        self.age = self.age + 1\n",
    "        \n",
    "# class Calculator:\n",
    "#     def __init__(self):\n",
    "#         self.result = 0\n",
    "\n",
    "#     def adder(self, num):\n",
    "#         self.result += num\n",
    "#         return self.result"
   ]
  },
  {
   "cell_type": "code",
   "execution_count": 46,
   "metadata": {
    "collapsed": false
   },
   "outputs": [
    {
     "ename": "AttributeError",
     "evalue": "'CAT' object has no attribute 'age'",
     "output_type": "error",
     "traceback": [
      "\u001b[0;31m---------------------------------------------------------------------------\u001b[0m",
      "\u001b[0;31mAttributeError\u001b[0m                            Traceback (most recent call last)",
      "\u001b[0;32m<ipython-input-46-1be00e6086a6>\u001b[0m in \u001b[0;36m<module>\u001b[0;34m()\u001b[0m\n\u001b[1;32m      2\u001b[0m \u001b[0mcat1\u001b[0m \u001b[0;34m=\u001b[0m \u001b[0mCAT\u001b[0m\u001b[0;34m(\u001b[0m\u001b[0;34m)\u001b[0m\u001b[0;34m\u001b[0m\u001b[0m\n\u001b[1;32m      3\u001b[0m \u001b[0mcat1\u001b[0m\u001b[0;34m.\u001b[0m\u001b[0mname\u001b[0m \u001b[0;34m=\u001b[0m \u001b[0;34m'LEI'\u001b[0m\u001b[0;34m\u001b[0m\u001b[0m\n\u001b[0;32m----> 4\u001b[0;31m \u001b[0mprint\u001b[0m\u001b[0;34m(\u001b[0m\u001b[0mcat1\u001b[0m\u001b[0;34m.\u001b[0m\u001b[0mage\u001b[0m\u001b[0;34m)\u001b[0m\u001b[0;34m\u001b[0m\u001b[0m\n\u001b[0m\u001b[1;32m      5\u001b[0m \u001b[0;31m# cat1.get_older()\u001b[0m\u001b[0;34m\u001b[0m\u001b[0;34m\u001b[0m\u001b[0m\n\u001b[1;32m      6\u001b[0m \u001b[0mprint\u001b[0m\u001b[0;34m(\u001b[0m\u001b[0mcat1\u001b[0m\u001b[0;34m.\u001b[0m\u001b[0mname\u001b[0m\u001b[0;34m)\u001b[0m\u001b[0;34m\u001b[0m\u001b[0m\n",
      "\u001b[0;31mAttributeError\u001b[0m: 'CAT' object has no attribute 'age'"
     ]
    }
   ],
   "source": [
    "### Object = 여기서는 cat1 = memory에 살아있음\n",
    "cat1 = CAT()\n",
    "cat1.name = 'LEI'\n",
    "print(cat1.age)\n",
    "# cat1.get_older()\n",
    "print(cat1.name)\n"
   ]
  },
  {
   "cell_type": "markdown",
   "metadata": {},
   "source": [
    "### 다음 시간\n",
    "- class\n",
    "- numpy 읽기 쓰기\n",
    "- csv\n",
    "\n",
    "- 12/9 토 10:00am\n",
    "- csv 관련 설명\n",
    "\n"
   ]
  },
  {
   "cell_type": "code",
   "execution_count": null,
   "metadata": {
    "collapsed": true
   },
   "outputs": [],
   "source": []
  },
  {
   "cell_type": "code",
   "execution_count": null,
   "metadata": {
    "collapsed": true
   },
   "outputs": [],
   "source": []
  }
 ],
 "metadata": {
  "kernelspec": {
   "display_name": "Python [conda root]",
   "language": "python",
   "name": "conda-root-py"
  },
  "language_info": {
   "codemirror_mode": {
    "name": "ipython",
    "version": 3
   },
   "file_extension": ".py",
   "mimetype": "text/x-python",
   "name": "python",
   "nbconvert_exporter": "python",
   "pygments_lexer": "ipython3",
   "version": "3.5.2"
  }
 },
 "nbformat": 4,
 "nbformat_minor": 2
}
