{
 "cells": [
  {
   "cell_type": "markdown",
   "metadata": {},
   "source": [
    "### Git\n",
    "- clone\n",
    "    + 레포지토리 복사해오기\n",
    "    + Git BASH 열기 > 원하는 디렉토리 가기 > `git clone 내가_clone_하고싶은_주소_(웹상에서_확인)`\n",
    "- repository 만들기\n",
    "    + 웹에서 만들기\n",
    "- git 명령어\n",
    "    + git status\n",
    "        * 현재 상황 체크\n",
    "    + git add 원하는 파일\n",
    "        * 원하는 파일을 관리 대상에 넣음\n",
    "    + git commit\n",
    "        * 스크린샷 찍기\n",
    "        * git commit -m \"원하는 메세지\"\n",
    "    + git push\n",
    "        * 로컬(내 컴퓨터)의 스크린샷을 (커밋을) 레포지토리에 올리기.\n",
    "        * 순서: git add ?? > git commit -m \"message\" > git push\n",
    "    + git log\n",
    "        * 스크린샷 확인하기\n",
    "    + git pull\n",
    "        * repository의 commit을 내 로컬로 받아오기\n",
    "- Bash 열기\n",
    "    + Git BASH 열기\n",
    "    + 명령어\n",
    "        * pwd: 현재 위치의 절대경로 출력\n",
    "        * cd\n",
    "            - change directory: 원하는 directory 가기\n",
    "            - cd 원하는_디렉토리_위치\n",
    "            - ex) cd ~ : 홈 화면으로 가기\n",
    "            - file_path 부르는 방법\n",
    "                + 공통: / == 디렉토리 구분\n",
    "                + 절대 경로: ~/Desktop/1209/test, ~\n",
    "                + 상대 경로: 현재에서 상위로 / 하위 어디로\n",
    "                    * .. : 상위\n",
    "                    * . : 현재 (default)\n",
    "        * ls\n",
    "            - list: 디렉토리의 파일 목록 보여주기\n",
    "            - list 내가_보고싶은_디렉토리_위치\n",
    "        * mv\n",
    "            - move: 파일 위치 바꾸기\n",
    "            - mv from(내가_움직이고싶은_대상_위치) to(내가_옮기고싶은_새로운_위치)\n",
    "        * cp\n",
    "            - copy: 파일 복사하기\n",
    "            - cp from(내가_복사하고싶은_대상_위치) to(내가_복사하고싶은_새로운_위치)\n",
    "            - cp -r from to: directory 복붙\n",
    "        * clear\n",
    "            - 화면 다 정리해버리기\n",
    "        * rm\n",
    "            - remove: 파일 지우기\n",
    "            - 휴지통에 없음. 주의\n",
    "            - rm -r from to: directory 삭제\n",
    "        * cat\n",
    "            - 파일 프린트\n",
    "        * head -n 3 파일이름\n",
    "        * ctrl + c: 중단\n",
    "    + shell 프로그램\n",
    "        * asfdsdfs.sh\n",
    "        * 예시 참조\n",
    "    + vim\n",
    "        * 리눅스계의 메모장\n",
    "    \n",
    "                    "
   ]
  },
  {
   "cell_type": "markdown",
   "metadata": {
    "collapsed": true
   },
   "source": [
    "### Class\n",
    "- 집합 개념\n",
    "    + 무엇을 모은 집합? \n",
    "    = 똑같은 목적을 가진 다른 기능을 하는 함수 / 데이터 들의 모임\n",
    "    = 똑같은 목적을 가진 다른 기능을 하는 함수 / field 들의 모임"
   ]
  },
  {
   "cell_type": "code",
   "execution_count": 76,
   "metadata": {
    "collapsed": true
   },
   "outputs": [],
   "source": [
    "class Cat:\n",
    "    def __init__(self):\n",
    "        # Field / Attribute\n",
    "        self.name = \"\"\n",
    "        self.age = 1\n",
    "        self.foodlst = list()\n",
    "        self.babylst = list()\n",
    "        \n",
    "    def be_nice(self):\n",
    "        print(\"Say hello\")\n",
    "    \n",
    "    def get_older(self):\n",
    "        self.age += 1\n",
    "        \n",
    "    def rename(self, new_name):\n",
    "        self.name = new_name\n",
    "        \n",
    "    def experience(self, new_food):\n",
    "        self.foodlst.append(new_food)\n",
    "        \n",
    "    def eat(self, food):\n",
    "        print(\"I ate %s\" % food)\n",
    "        \n",
    "    def have_baby(self, baby):\n",
    "        self.babylst.append(baby)\n",
    "    \n",
    "    def print_baby(self):\n",
    "        for baby in self.babylst:\n",
    "            print(baby.name)\n",
    "        "
   ]
  },
  {
   "cell_type": "code",
   "execution_count": 77,
   "metadata": {
    "collapsed": true
   },
   "outputs": [],
   "source": [
    "Reo = Cat()"
   ]
  },
  {
   "cell_type": "code",
   "execution_count": 78,
   "metadata": {
    "collapsed": false
   },
   "outputs": [
    {
     "name": "stdout",
     "output_type": "stream",
     "text": [
      "My cat's name is REO\n",
      "My cat's name is Reo\n"
     ]
    }
   ],
   "source": [
    "Reo.name = \"REO\"\n",
    "print('My cat\\'s name is %s' % Reo.name)\n",
    "\n",
    "Reo.rename(\"Reo\")\n",
    "print('My cat\\'s name is %s' % Reo.name)"
   ]
  },
  {
   "cell_type": "code",
   "execution_count": 79,
   "metadata": {
    "collapsed": false
   },
   "outputs": [
    {
     "name": "stdout",
     "output_type": "stream",
     "text": [
      "I ate apple\n"
     ]
    }
   ],
   "source": [
    "Reo.experience(\"tomato\")\n",
    "Reo.experience(\"banana\")\n",
    "Reo.eat('apple')"
   ]
  },
  {
   "cell_type": "code",
   "execution_count": 80,
   "metadata": {
    "collapsed": false
   },
   "outputs": [
    {
     "name": "stdout",
     "output_type": "stream",
     "text": [
      "Say hello\n"
     ]
    }
   ],
   "source": [
    "Reo.be_nice()"
   ]
  },
  {
   "cell_type": "code",
   "execution_count": 81,
   "metadata": {
    "collapsed": false
   },
   "outputs": [
    {
     "name": "stdout",
     "output_type": "stream",
     "text": [
      "My cat's age is 2\n"
     ]
    }
   ],
   "source": [
    "Reo.get_older()\n",
    "print('My cat\\'s age is %d' % Reo.age)"
   ]
  },
  {
   "cell_type": "code",
   "execution_count": 82,
   "metadata": {
    "collapsed": false
   },
   "outputs": [
    {
     "name": "stdout",
     "output_type": "stream",
     "text": [
      "Hana\n",
      "cute Dona\n"
     ]
    }
   ],
   "source": [
    "Hana = Cat()\n",
    "Hana.rename(\"Hana\")\n",
    "\n",
    "Dona = Cat()\n",
    "Dona.rename(\"cute Dona\")\n",
    "\n",
    "Reo.have_baby(Hana)\n",
    "Reo.have_baby(Dona)\n",
    "\n",
    "Reo.print_baby()\n",
    "        "
   ]
  },
  {
   "cell_type": "markdown",
   "metadata": {},
   "source": [
    "### Package\n",
    "- class와 다르게, 디렉토리 별로 함수를 묶어서 관리"
   ]
  },
  {
   "cell_type": "code",
   "execution_count": 83,
   "metadata": {
    "collapsed": true
   },
   "outputs": [],
   "source": [
    "from my_package.action import be_nice"
   ]
  },
  {
   "cell_type": "code",
   "execution_count": 84,
   "metadata": {
    "collapsed": false
   },
   "outputs": [
    {
     "name": "stdout",
     "output_type": "stream",
     "text": [
      "Hi\n"
     ]
    }
   ],
   "source": [
    "be_nice()"
   ]
  },
  {
   "cell_type": "code",
   "execution_count": 85,
   "metadata": {
    "collapsed": false
   },
   "outputs": [
    {
     "name": "stdout",
     "output_type": "stream",
     "text": [
      ".\n"
     ]
    }
   ],
   "source": [
    "from my_package.action import *\n",
    "# *은 모든 함수 가져온다는 뜻\n",
    "be_mean()"
   ]
  },
  {
   "cell_type": "code",
   "execution_count": 23,
   "metadata": {
    "collapsed": false
   },
   "outputs": [],
   "source": [
    "import pandas as pd\n",
    "d1 = pd.read_csv('data1.txt', sep='\\t')\n",
    "d2 = pd.read_csv('data3.txt', sep='\\t')\n",
    "d12 = pd.concat([d1,d2]).drop_duplicates()"
   ]
  },
  {
   "cell_type": "code",
   "execution_count": 24,
   "metadata": {
    "collapsed": false
   },
   "outputs": [
    {
     "data": {
      "text/html": [
       "<div>\n",
       "<style>\n",
       "    .dataframe thead tr:only-child th {\n",
       "        text-align: right;\n",
       "    }\n",
       "\n",
       "    .dataframe thead th {\n",
       "        text-align: left;\n",
       "    }\n",
       "\n",
       "    .dataframe tbody tr th {\n",
       "        vertical-align: top;\n",
       "    }\n",
       "</style>\n",
       "<table border=\"1\" class=\"dataframe\">\n",
       "  <thead>\n",
       "    <tr style=\"text-align: right;\">\n",
       "      <th></th>\n",
       "      <th>Name</th>\n",
       "      <th>Age</th>\n",
       "      <th>Gender</th>\n",
       "    </tr>\n",
       "  </thead>\n",
       "  <tbody>\n",
       "    <tr>\n",
       "      <th>0</th>\n",
       "      <td>Chul</td>\n",
       "      <td>10</td>\n",
       "      <td>Female</td>\n",
       "    </tr>\n",
       "    <tr>\n",
       "      <th>1</th>\n",
       "      <td>Youn</td>\n",
       "      <td>22</td>\n",
       "      <td>Male</td>\n",
       "    </tr>\n",
       "    <tr>\n",
       "      <th>2</th>\n",
       "      <td>Leee</td>\n",
       "      <td>33</td>\n",
       "      <td>Male</td>\n",
       "    </tr>\n",
       "  </tbody>\n",
       "</table>\n",
       "</div>"
      ],
      "text/plain": [
       "   Name  Age  Gender\n",
       "0  Chul   10  Female\n",
       "1  Youn   22    Male\n",
       "2  Leee   33    Male"
      ]
     },
     "execution_count": 24,
     "metadata": {},
     "output_type": "execute_result"
    }
   ],
   "source": [
    "d12"
   ]
  },
  {
   "cell_type": "code",
   "execution_count": null,
   "metadata": {
    "collapsed": true
   },
   "outputs": [],
   "source": []
  }
 ],
 "metadata": {
  "anaconda-cloud": {},
  "kernelspec": {
   "display_name": "Python [conda root]",
   "language": "python",
   "name": "conda-root-py"
  },
  "language_info": {
   "codemirror_mode": {
    "name": "ipython",
    "version": 3
   },
   "file_extension": ".py",
   "mimetype": "text/x-python",
   "name": "python",
   "nbconvert_exporter": "python",
   "pygments_lexer": "ipython3",
   "version": "3.5.2"
  }
 },
 "nbformat": 4,
 "nbformat_minor": 2
}
